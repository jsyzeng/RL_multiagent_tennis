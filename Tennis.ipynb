{
 "cells": [
  {
   "cell_type": "markdown",
   "metadata": {},
   "source": [
    "# Project 3: Collaboration and Competition (Unity Tennis)\n",
    "\n",
    "---\n",
    "**Author: Jason Zeng**\n",
    "\n",
    "**Date: April 25, 2020**\n",
    "\n",
    "We will use Deep Deterministic Policy Gradient (DDPG) algorithm to train an muti-agent task Unity Tennis.\n",
    "\n",
    "In this environment, two agents are controlling two rackets to play a Tennis game. If an agent hits the ball correctly, it will receive a reward of +0.1. If an agent misses the ball or it hits the ball out of bounds, it will receive a reward of -0.01. Thus, the goal of each agent is to keep the ball in play.\n",
    "\n",
    "The observation space consists of 8 variables corresponding to the position and velocity of the ball and racket. Each agent receives its own, local observation with a total of 24 states. Two continuous actions are available, corresponding to movement toward (or away from) the net, and jumping.\n",
    "\n",
    "After each episode, we add up the rewards that each agent received (without discounting), to get a score for each agent. This yields 2 (potentially different) scores. We then take the maximum of these 2 scores. This yields a single score for each episode.\n",
    "\n",
    "Due to the nature of multi-agent learning, the training period is quite noisy. In this experiment, we find after training both agents for ~2600 episodes, an average score of +0.55 over 100 consecutive episodes could be reached. This average score is after taking the maximum over both agents.\n",
    "\n",
    "\n",
    "### 1. Start the Environment\n",
    "\n",
    "First, let's install a few packages. This line will take a few minutes to run!"
   ]
  },
  {
   "cell_type": "code",
   "execution_count": 1,
   "metadata": {},
   "outputs": [
    {
     "name": "stdout",
     "output_type": "stream",
     "text": [
      "\u001b[31mtensorflow 1.7.1 has requirement numpy>=1.13.3, but you'll have numpy 1.12.1 which is incompatible.\u001b[0m\r\n",
      "\u001b[31mipython 6.5.0 has requirement prompt-toolkit<2.0.0,>=1.0.15, but you'll have prompt-toolkit 3.0.5 which is incompatible.\u001b[0m\r\n"
     ]
    }
   ],
   "source": [
    "!pip -q install ./python"
   ]
  },
  {
   "cell_type": "markdown",
   "metadata": {},
   "source": [
    "The environment is already saved in the Workspace and can be accessed at the file path provided below. "
   ]
  },
  {
   "cell_type": "code",
   "execution_count": 2,
   "metadata": {},
   "outputs": [
    {
     "name": "stderr",
     "output_type": "stream",
     "text": [
      "INFO:unityagents:\n",
      "'Academy' started successfully!\n",
      "Unity Academy name: Academy\n",
      "        Number of Brains: 1\n",
      "        Number of External Brains : 1\n",
      "        Lesson number : 0\n",
      "        Reset Parameters :\n",
      "\t\t\n",
      "Unity brain name: TennisBrain\n",
      "        Number of Visual Observations (per agent): 0\n",
      "        Vector Observation space type: continuous\n",
      "        Vector Observation space size (per agent): 8\n",
      "        Number of stacked Vector Observation: 3\n",
      "        Vector Action space type: continuous\n",
      "        Vector Action space size (per agent): 2\n",
      "        Vector Action descriptions: , \n"
     ]
    }
   ],
   "source": [
    "from unityagents import UnityEnvironment\n",
    "import numpy as np\n",
    "\n",
    "env = UnityEnvironment(file_name=\"/data/Tennis_Linux_NoVis/Tennis\")"
   ]
  },
  {
   "cell_type": "markdown",
   "metadata": {},
   "source": [
    "Environments contain **_brains_** which are responsible for deciding the actions of their associated agents. Here we check for the first brain available, and set it as the default brain we will be controlling from Python."
   ]
  },
  {
   "cell_type": "code",
   "execution_count": 3,
   "metadata": {},
   "outputs": [],
   "source": [
    "# get the default brain\n",
    "brain_name = env.brain_names[0]\n",
    "brain = env.brains[brain_name]"
   ]
  },
  {
   "cell_type": "markdown",
   "metadata": {},
   "source": [
    "### 2. Examine the State and Action Spaces\n",
    "\n",
    "Run the code cell below to print some information about the environment."
   ]
  },
  {
   "cell_type": "code",
   "execution_count": 4,
   "metadata": {},
   "outputs": [
    {
     "name": "stdout",
     "output_type": "stream",
     "text": [
      "Number of agents: 2\n",
      "Size of each action: 2\n",
      "There are 2 agents. Each observes a state with length: 24\n",
      "The state for the first agent looks like: [ 0.          0.          0.          0.          0.          0.          0.\n",
      "  0.          0.          0.          0.          0.          0.          0.\n",
      "  0.          0.         -6.65278625 -1.5        -0.          0.\n",
      "  6.83172083  6.         -0.          0.        ]\n"
     ]
    }
   ],
   "source": [
    "# reset the environment\n",
    "env_info = env.reset(train_mode=True)[brain_name]\n",
    "\n",
    "# number of agents \n",
    "num_agents = len(env_info.agents)\n",
    "print('Number of agents:', num_agents)\n",
    "\n",
    "# size of each action\n",
    "action_size = brain.vector_action_space_size\n",
    "print('Size of each action:', action_size)\n",
    "\n",
    "# examine the state space \n",
    "states = env_info.vector_observations\n",
    "state_size = states.shape[1]\n",
    "print('There are {} agents. Each observes a state with length: {}'.format(states.shape[0], state_size))\n",
    "print('The state for the first agent looks like:', states[0])"
   ]
  },
  {
   "cell_type": "markdown",
   "metadata": {},
   "source": [
    "### 3. Take Random Actions in the Environment\n",
    "\n",
    "In the next code cell, you will learn how to use the Python API to control the agent and receive feedback from the environment.\n",
    "\n",
    "Note that **in this coding environment, you will not be able to watch the agents while they are training**, and you should set `train_mode=True` to restart the environment."
   ]
  },
  {
   "cell_type": "code",
   "execution_count": 5,
   "metadata": {},
   "outputs": [
    {
     "name": "stdout",
     "output_type": "stream",
     "text": [
      "Total score (averaged over agents) this episode: -0.004999999888241291\n",
      "Total score (averaged over agents) this episode: -0.004999999888241291\n",
      "Total score (averaged over agents) this episode: -0.004999999888241291\n",
      "Total score (averaged over agents) this episode: -0.004999999888241291\n",
      "Total score (averaged over agents) this episode: -0.004999999888241291\n"
     ]
    }
   ],
   "source": [
    "for i in range(5):                                         # play game for 5 episodes\n",
    "    env_info = env.reset(train_mode=False)[brain_name]     # reset the environment    \n",
    "    states = env_info.vector_observations                  # get the current state (for each agent)\n",
    "    scores = np.zeros(num_agents)                          # initialize the score (for each agent)\n",
    "    while True:\n",
    "        actions = np.random.randn(num_agents, action_size) # select an action (for each agent)\n",
    "        actions = np.clip(actions, -1, 1)                  # all actions between -1 and 1\n",
    "        env_info = env.step(actions)[brain_name]           # send all actions to tne environment\n",
    "        next_states = env_info.vector_observations         # get next state (for each agent)\n",
    "        rewards = env_info.rewards                         # get reward (for each agent)\n",
    "        dones = env_info.local_done                        # see if episode finished\n",
    "        scores += env_info.rewards                         # update the score (for each agent)\n",
    "        states = next_states                               # roll over states to next time step\n",
    "        if np.any(dones):                                  # exit loop if episode finished\n",
    "            break\n",
    "    print('Total score (averaged over agents) this episode: {}'.format(np.mean(scores)))"
   ]
  },
  {
   "cell_type": "markdown",
   "metadata": {},
   "source": [
    "When finished, you can close the environment."
   ]
  },
  {
   "cell_type": "code",
   "execution_count": 6,
   "metadata": {},
   "outputs": [],
   "source": [
    "#env.close()"
   ]
  },
  {
   "cell_type": "markdown",
   "metadata": {},
   "source": [
    "### 4. Train the Agents\n",
    "\n",
    "This project is similar to the Continuous Control project, except we'll create and train the two agents independently. The back-bone method we will use to address continous action spaces is \"Actor-Critic\" DDPG algorithm. The details of DDPG algorithm can be found in [this paper](https://arxiv.org/abs/1509.02971).\n",
    "\n",
    "In DDPG, “Actor” updates the policy distribution in the direction suggested by the \"Critic\" (such as with policy gradients), and the “Critic” estimates the value functions like action-value Q or state-value V. In this project, two agents will be trained independently. Each agent will receive its own states, rewards, and make its own actions. For this two-agent learning, both \"Actor\" and \"Critic\" will keep two networks: a local network to update training and a target network to evaluate results. Network weights can be \"soft\" updated by weighting local network parameters and target network parameters. For example, 0.01 of local network parameters and 0.999 of target network parameters.\n",
    "\n",
    "Overview of NN structure:\n",
    "\n",
    "- A two-hidden-layer NN for both \"Actor\" and \"Critic\".\n",
    "- Layer 1 has 256 nodes and Layer 2 has 128 nodes.\n",
    "- State size is 24.\n",
    "- Two continuous actions: movement toward (or away from) the net, and jumping.\n",
    "- Activation function ReLU is used in all layers.\n",
    "\n",
    "Summary of key model parameters:\n",
    "```python\n",
    "BUFFER_SIZE = int(1e6) # replay buffer size\n",
    "BATCH_SIZE = 128 # minibatch size\n",
    "GAMMA = 0.98 # discount factor\n",
    "TAU = 1e-3 # for soft update of target parameters\n",
    "LR_ACTOR = 1e-4 # learning rate of the actor\n",
    "LR_CRITIC = 1e-3 # learning rate of the critic\n",
    "WEIGHT_DECAY = 0 # L2 weight decay\n",
    "UPDATE_EVERY = 10 # how often to update the network\n",
    "UPDATE_TIMES = 20 # how many times to update the network each time\n",
    "EPSILON = 1.0 # epsilon for the noise process added to the actions\n",
    "EPSILON_DECAY = 1e-6 # decay for epsilon above\n",
    "```\n",
    "\n",
    "A few **important notes**:\n",
    "- When training the environment, set `train_mode=True`, so that the line for resetting the environment looks like the following:\n",
    "```python\n",
    "env_info = env.reset(train_mode=True)[brain_name]\n",
    "```\n",
    "- In this coding environment, you will not be able to watch the agents while they are training.  However, **_after training the agents_**, you can download the saved model weights to watch the agents on your own machine! "
   ]
  },
  {
   "cell_type": "code",
   "execution_count": 7,
   "metadata": {},
   "outputs": [],
   "source": [
    "import gym\n",
    "import random\n",
    "import torch\n",
    "import numpy as np\n",
    "from collections import deque\n",
    "import matplotlib.pyplot as plt\n",
    "%matplotlib inline\n",
    "\n",
    "from ddpg_agent import Agent\n",
    "\n",
    "# keep workstation alive\n",
    "from workspace_utils import active_session"
   ]
  },
  {
   "cell_type": "markdown",
   "metadata": {},
   "source": [
    "#### 4.1 Multi-agent DDPG, test run requiring mean score > 0.8"
   ]
  },
  {
   "cell_type": "code",
   "execution_count": 10,
   "metadata": {},
   "outputs": [],
   "source": [
    "state_size=24\n",
    "action_size=2\n",
    "random_seed=1\n",
    "threshold=0.8   # threshold to be tested\n",
    "\n",
    "# agents\n",
    "agent1 = Agent(state_size=state_size, action_size=action_size, random_seed=random_seed)\n",
    "agent2 = Agent(state_size=state_size, action_size=action_size, random_seed=random_seed)\n",
    "\n",
    "# define multi-agent DDPG\n",
    "def maddpg(n_episodes=5000, reset_time=100, print_every=100, threshold=threshold):\n",
    "\n",
    "    scores_deque = deque(maxlen=print_every)\n",
    "    scores = []\n",
    "    for i_episode in range(1, n_episodes+1):\n",
    "        env_info = env.reset(train_mode=True)[brain_name]      # reset the environment    \n",
    "        states = env_info.vector_observations                  # get the current state (for each agent)\n",
    "        score = np.zeros(num_agents)                          # initialize the score (for each agent)\n",
    "        agent1.reset()\n",
    "        agent2.reset()\n",
    "        #for t in range(max_t):\n",
    "        while True:\n",
    "            action1 = agent1.act(np.expand_dims(states[0], axis=0))\n",
    "            action2 = agent2.act(np.expand_dims(states[1], axis=0))\n",
    "            actions = np.vstack((action1, action2))\n",
    "            env_info = env.step(actions)[brain_name]           # send all actions to tne environment\n",
    "            next_states = env_info.vector_observations         # get next state (for each agent)\n",
    "            rewards = env_info.rewards                         # get reward (for each agent)\n",
    "            dones = env_info.local_done                        # see if episode finished\n",
    "            agent1.step(states[0], action1, rewards[0], next_states[0], dones[0])\n",
    "            agent2.step(states[1], action2, rewards[1], next_states[1], dones[1])\n",
    "            score += rewards                                   # update the score (for each agent)\n",
    "            states = next_states                               # roll over states to next time step\n",
    "            if np.any(dones):\n",
    "                break \n",
    "        scores_deque.append(score)\n",
    "        scores.append(score)\n",
    "        print('\\rEpisode {}\\tAverage Score: {}'.format(i_episode, np.mean(scores_deque)), end=\"\")\n",
    "        \n",
    "        if i_episode % print_every == 0:\n",
    "            print('\\rEpisode {}\\tAverage Score: {}'.format(i_episode, np.mean(scores_deque)))\n",
    "        # break when training reaches threshold\n",
    "        if np.mean(scores_deque) > (threshold):\n",
    "            print('\\nEnvironment solved in {} episodes.\\tAverage Score: {}'.format(i_episode, np.mean(scores_deque)))\n",
    "            torch.save(agent1.actor_local.state_dict(), 'agent1_checkpoint_actor_v1.pth')\n",
    "            torch.save(agent1.critic_local.state_dict(), 'agent1_checkpoint_critic_v1.pth')\n",
    "            torch.save(agent2.actor_local.state_dict(), 'agent2_checkpoint_actor_v1.pth')\n",
    "            torch.save(agent2.critic_local.state_dict(), 'agent2_checkpoint_critic_v1.pth')\n",
    "            break\n",
    "            \n",
    "    return scores"
   ]
  },
  {
   "cell_type": "code",
   "execution_count": null,
   "metadata": {},
   "outputs": [
    {
     "name": "stdout",
     "output_type": "stream",
     "text": [
      "Episode 100\tAverage Score: -0.0009999998286366462\n",
      "Episode 200\tAverage Score: 0.00100000020116567620\n",
      "Episode 300\tAverage Score: 1.8626451492309571e-10\n",
      "Episode 400\tAverage Score: 0.00850000031292438520\n",
      "Episode 500\tAverage Score: 0.015000000409781934\n",
      "Episode 600\tAverage Score: 0.011500000357627868\n",
      "Episode 700\tAverage Score: 0.020500000491738327\n",
      "Episode 800\tAverage Score: 0.020450000492855905\n",
      "Episode 900\tAverage Score: 0.020500000491738328\n",
      "Episode 1000\tAverage Score: 0.03200000066310167\n",
      "Episode 1100\tAverage Score: 0.066000001179054396\n",
      "Episode 1200\tAverage Score: 0.06695000119507313\n",
      "Episode 1300\tAverage Score: 0.07200000126846134\n",
      "Episode 1400\tAverage Score: 0.06800000119954347\n",
      "Episode 1500\tAverage Score: 0.06600000117905439\n",
      "Episode 1600\tAverage Score: 0.07000000122934588\n",
      "Episode 1700\tAverage Score: 0.06395000114105642\n",
      "Episode 1800\tAverage Score: 0.07295000128448009\n",
      "Episode 1900\tAverage Score: 0.07950000137090683\n",
      "Episode 2000\tAverage Score: 0.08550000146031384\n",
      "Episode 2100\tAverage Score: 0.08695000148378312\n",
      "Episode 2200\tAverage Score: 0.07440000129863619\n",
      "Episode 2300\tAverage Score: 0.11550000192597508\n",
      "Episode 2400\tAverage Score: 0.20240000322461127\n",
      "Episode 2500\tAverage Score: 0.35995000555180017\n",
      "Episode 2600\tAverage Score: 0.55265000843442987\n",
      "Episode 2700\tAverage Score: 0.25600000402890144\n",
      "Episode 2800\tAverage Score: 0.33560000518336895\n",
      "Episode 2900\tAverage Score: 0.33350000516511523\n",
      "Episode 3000\tAverage Score: 0.53005000809207566\n",
      "Episode 3100\tAverage Score: 0.7011000106576833\n",
      "Episode 3200\tAverage Score: 0.5715500087291002\n",
      "Episode 3300\tAverage Score: 0.6141000093705952\n",
      "Episode 3400\tAverage Score: 0.5645500086341053\n",
      "Episode 3500\tAverage Score: 0.31545000489801167\n",
      "Episode 3600\tAverage Score: 0.30200000469572844\n",
      "Episode 3700\tAverage Score: 0.46250000711530456\n",
      "Episode 3800\tAverage Score: 0.41495000640861693\n",
      "Episode 3900\tAverage Score: 0.43200000663287935\n",
      "Episode 4000\tAverage Score: 0.42000000645406543\n",
      "Episode 4100\tAverage Score: 0.46900000718422236\n",
      "Episode 4200\tAverage Score: 0.47350000724196434\n",
      "Episode 4239\tAverage Score: 0.53005000808276243"
     ]
    }
   ],
   "source": [
    "with active_session():\n",
    "    # do long-running work here\n",
    "    scores = maddpg()"
   ]
  },
  {
   "cell_type": "markdown",
   "metadata": {},
   "source": [
    "Somehow this kernel became dead after ~18 hours of training before it could solve with mean score > 0.8. I also used up all GPU hours provided by Udacity (50 hours in total). This makes it hard for me to rework on this problem using Workspace provided by Udacity. Anyway, a key point here is, roughly after 2600 Episodes, the environment can be solved if our goal is to obtain an average score > 0.5. The goal of achieving average score > 0.8 may be too hard to achieve. \n",
    "\n",
    "ALso, by observating the average score numbers together with Episode numbers, we can see the general trend, though with fluctuations, gradually increases over time. This indicates the agents learned how to react appropriately to environment.\n",
    "\n",
    "If we plot the Score vs. Episode, we will get something like this plot below, which is for demnostration purpose only. "
   ]
  },
  {
   "cell_type": "code",
   "execution_count": 20,
   "metadata": {},
   "outputs": [],
   "source": [
    "import matplotlib\n",
    "\n",
    "# define moving average function to be used in plotting\n",
    "def moving_average(x, n=3) :\n",
    "    ret = np.cumsum(x, dtype=float)\n",
    "    ret[n:] = ret[n:] - ret[:-n]\n",
    "    return ret[n - 1:] / n\n",
    "\n",
    "# plot score, together with moving average\n",
    "def plot_scores(scores, smooth_window=30):\n",
    "    scores_smoothed = moving_average(scores, smooth_window)\n",
    "    # config the plot\n",
    "    fig = plt.figure(figsize=(10, 8))\n",
    "    matplotlib.rcParams.update({'font.size': 16})\n",
    "    #ax = fig.add_subplot(111)\n",
    "    plt.plot(np.arange(len(scores)), scores, linewidth=2, alpha=0.4, color='green', label='individual')\n",
    "    plt.plot(np.arange(len(scores))[smooth_window-1:,], scores_smoothed, linewidth=1.5, alpha=1, color='blue', label='average')\n",
    "    plt.legend(bbox_to_anchor=(0.05, 0.95), loc='upper left', borderaxespad=0.)\n",
    "    plt.ylabel('Score')\n",
    "    plt.xlabel('Episode Number')\n",
    "    plt.show()\n",
    "    return fig\n",
    "\n",
    "def load_checkpoint(filepath):\n",
    "    checkpoint = torch.load(filepath)\n",
    "    return (checkpoint['actor'], checkpoint['critic'], checkpoint['scores'])"
   ]
  },
  {
   "cell_type": "code",
   "execution_count": 21,
   "metadata": {},
   "outputs": [
    {
     "data": {
      "image/png": "[encoded data removed]",
      "text/plain": [
       "<matplotlib.figure.Figure at 0x7f3f4a0d2128>"
      ]
     },
     "metadata": {
      "needs_background": "light"
     },
     "output_type": "display_data"
    }
   ],
   "source": [
    "_, _, scores_solved = load_checkpoint('checkpoint-solved.pth')\n",
    "figure = plot_scores(scores_solved)"
   ]
  },
  {
   "cell_type": "markdown",
   "metadata": {},
   "source": [
    "### 5. Summary and Future Work"
   ]
  },
  {
   "cell_type": "markdown",
   "metadata": {},
   "source": [
    "In this notebook, we applied Deep Deterministic Policy Gradient (DDPG) algorithm to train multi-agents for Unity Tennis task. \n",
    "An average score of 0.55 for 100 episodes is achieved with about 2600 training episodes.\n",
    "\n",
    "A few ways to further improve:\n",
    "\n",
    "- Hyperparameter tuning, including  ϵ -decay rate, discount factor, update frequency, drop out, batch size etc.\n",
    "- Apply DDPG improvements, including PPO, Prioritized Experience Replay, A2C, AGE.\n",
    "  - PPO: Proximal Policy Optimization algorithm\n",
    "  - Prioritized Experience Replay: importance sampling of recycled trajectories\n",
    "  - A2C: Advatage Actor Critic algorithm\n",
    "  - AGE: Generalized Advantage Estimation algorithm"
   ]
  }
 ],
 "metadata": {
  "kernelspec": {
   "display_name": "Python 3",
   "language": "python",
   "name": "python3"
  },
  "language_info": {
   "codemirror_mode": {
    "name": "ipython",
    "version": 3
   },
   "file_extension": ".py",
   "mimetype": "text/x-python",
   "name": "python",
   "nbconvert_exporter": "python",
   "pygments_lexer": "ipython3",
   "version": "3.6.3"
  }
 },
 "nbformat": 4,
 "nbformat_minor": 2
}
